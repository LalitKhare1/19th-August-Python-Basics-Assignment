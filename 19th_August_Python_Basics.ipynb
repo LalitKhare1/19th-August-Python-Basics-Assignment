{
 "cells": [
  {
   "cell_type": "code",
   "execution_count": 3,
   "id": "80826bea-50ec-4916-9eff-44d9f9b09232",
   "metadata": {},
   "outputs": [
    {
     "name": "stdout",
     "output_type": "stream",
     "text": [
      "Swapped Values of x and y are :  4 and 5\n"
     ]
    }
   ],
   "source": [
    "'''1. Declare two variables, `x` and `y`, and assign them integer values. Swap the\n",
    "values of these variables without using any temporary variable.'''\n",
    "\n",
    "x = 5\n",
    "y = 4\n",
    "x,y = y,x\n",
    "print(\"Swapped Values of x and y are : \", x,\"and\",y)"
   ]
  },
  {
   "cell_type": "code",
   "execution_count": 7,
   "id": "12c24f3b-765f-40ba-b941-ba24fac42245",
   "metadata": {},
   "outputs": [
    {
     "name": "stdin",
     "output_type": "stream",
     "text": [
      "Enter the length of the Rectangle : 5\n",
      "Enter the width of the Rectangle : 6\n"
     ]
    },
    {
     "name": "stdout",
     "output_type": "stream",
     "text": [
      "The are of the Rectangle is : 30.0\n"
     ]
    }
   ],
   "source": [
    "'''2. Create a program that calculates the area of a rectangle. Take the length and\n",
    "width as inputs from the user and store them in variables. Calculate and\n",
    "display the area.'''\n",
    "\n",
    "length = float(input(\"Enter the length of the Rectangle :\"))\n",
    "width = float(input(\"Enter the width of the Rectangle :\"))\n",
    "area = length*width\n",
    "print(\"The area of the Rectangle is :\", area) "
   ]
  },
  {
   "cell_type": "code",
   "execution_count": 9,
   "id": "7af0a978-bea1-4af7-970f-7d4dd71cb5cf",
   "metadata": {},
   "outputs": [
    {
     "name": "stdin",
     "output_type": "stream",
     "text": [
      "Enter the value of temprature in Degree Celsius : 32\n"
     ]
    },
    {
     "name": "stdout",
     "output_type": "stream",
     "text": [
      "Temprature in Fahrenheit is : 89.6\n"
     ]
    }
   ],
   "source": [
    "'''3. Write a Python program that converts temperatures from Celsius to\n",
    "Fahrenheit. Take the temperature in Celsius as input, store it in a variable,\n",
    "convert it to Fahrenheit, and display the result.'''\n",
    "\n",
    "temp_in_celsius = float(input(\"Enter the value of temprature in Degree Celsius :\"))\n",
    "temp_in_fahrenheit = (temp_in_celsius*9/5) + 32\n",
    "print(\"Temprature in Fahrenheit is :\", temp_in_fahrenheit)                        "
   ]
  },
  {
   "cell_type": "code",
   "execution_count": 11,
   "id": "35b14f4e-a906-4338-9111-76a44febad8d",
   "metadata": {},
   "outputs": [
    {
     "name": "stdin",
     "output_type": "stream",
     "text": [
      "Type your string:  Lalit Khare\n"
     ]
    },
    {
     "name": "stdout",
     "output_type": "stream",
     "text": [
      "Length of your string is  11 words (including spaces).\n"
     ]
    }
   ],
   "source": [
    "'''1. Write a Python program that takes a string as input and prints the length of\n",
    "the string.'''\n",
    "\n",
    "str = input(\"Type your string: \")\n",
    "print(\"Length of your string is \",len(str),\"words (including spaces).\")"
   ]
  },
  {
   "cell_type": "code",
   "execution_count": 16,
   "id": "f7c267db-0a09-4715-a21a-20d7da2999bb",
   "metadata": {},
   "outputs": [
    {
     "name": "stdin",
     "output_type": "stream",
     "text": [
      "Type your sentence here : My name is Lalit Khare.\n"
     ]
    },
    {
     "name": "stdout",
     "output_type": "stream",
     "text": [
      "Total No. of Vowels in your sentence is  7\n"
     ]
    }
   ],
   "source": [
    "'''2. Create a program that takes a sentence from the user and counts the number\n",
    "of vowels (a, e, i, o, u) in the string.'''\n",
    "\n",
    "sentence = input(\"Type your sentence here :\").lower()\n",
    "\n",
    "a = sentence.count(\"a\")\n",
    "e = sentence.count(\"e\")\n",
    "i = sentence.count(\"i\")\n",
    "o = sentence.count(\"o\")\n",
    "u = sentence.count(\"u\")\n",
    "\n",
    "vowels = a+e+i+o+u\n",
    "\n",
    "print(\"Total No. of Vowels in your sentence is \",vowels)"
   ]
  },
  {
   "cell_type": "code",
   "execution_count": 21,
   "id": "e49d1961-ccba-4b08-854e-41e95bc63e3e",
   "metadata": {},
   "outputs": [
    {
     "name": "stdout",
     "output_type": "stream",
     "text": [
      "Reversed string is : erahK tilaL\n"
     ]
    }
   ],
   "source": [
    "'''3. Given a string, reverse the order of characters using string slicing and print\n",
    "the reversed string.'''\n",
    "\n",
    "str = \"Lalit Khare\"\n",
    "reversed_str = str[::-1]\n",
    "print(\"Reversed string is :\", reversed_str)"
   ]
  },
  {
   "cell_type": "code",
   "execution_count": 26,
   "id": "1077369e-eb7c-42dd-95b9-1b67023ecab3",
   "metadata": {},
   "outputs": [
    {
     "name": "stdin",
     "output_type": "stream",
     "text": [
      "Enter your string : Nam an\n"
     ]
    },
    {
     "name": "stdout",
     "output_type": "stream",
     "text": [
      "Your String isn't palindrome.\n"
     ]
    }
   ],
   "source": [
    "'''4. Write a program that takes a string as input and checks if it is a palindrome\n",
    "(reads the same forwards and backwards).'''\n",
    "\n",
    "str1 = input(\"Enter your string :\").lower()\n",
    "str2 = str1[::-1]\n",
    "\n",
    "if str1 == str2 :\n",
    "    print(\"Your String is palindrome.\")\n",
    "    \n",
    "else :\n",
    "    print(\"Your String isn't palindrome.\")"
   ]
  },
  {
   "cell_type": "code",
   "execution_count": 30,
   "id": "5e92b153-f4de-4ff0-b773-123cebab71a4",
   "metadata": {},
   "outputs": [
    {
     "name": "stdin",
     "output_type": "stream",
     "text": [
      "Enter your string The whole world is just an imagination.\n"
     ]
    },
    {
     "name": "stdout",
     "output_type": "stream",
     "text": [
      "Your string without spaces is : Thewholeworldisjustanimagination.\n"
     ]
    }
   ],
   "source": [
    "str1 = input(\"Enter your string\")\n",
    "str2 = str1.replace(\" \",\"\")\n",
    "print(\"Your string without spaces is :\", str2)"
   ]
  }
 ],
 "metadata": {
  "kernelspec": {
   "display_name": "Python 3 (ipykernel)",
   "language": "python",
   "name": "python3"
  },
  "language_info": {
   "codemirror_mode": {
    "name": "ipython",
    "version": 3
   },
   "file_extension": ".py",
   "mimetype": "text/x-python",
   "name": "python",
   "nbconvert_exporter": "python",
   "pygments_lexer": "ipython3",
   "version": "3.10.8"
  }
 },
 "nbformat": 4,
 "nbformat_minor": 5
}
